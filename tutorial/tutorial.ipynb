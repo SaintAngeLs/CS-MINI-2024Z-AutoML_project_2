{
 "cells": [
  {
   "cell_type": "markdown",
   "metadata": {},
   "source": [
    "# FeatureFlex 0.1.12\n",
    "\n",
    "### Autorzy: Andrii Voznesenskyi, Bartosz Kaczorowski\n",
    "\n",
    "**FeatureFlex** to pakiet AutoML skierowany do badaczy i specjalistów zajmujących się systemami rekomendacji opartymi na głębokim uczeniu. Odpowiada on na problem efektywnego zarządzania cechami wejściowymi w dużych zestawach danych. Dzięki temu może stanowić świetne narzędzie dla firm e-commerce lub platform streamingowych, które wykorzystują systemy rekomendacji na co dzień.\n",
    "\n",
    "## Specjalizacja FeatureFlex\n",
    "\n",
    "**FeatureFlex** specjalizuje się w:\n",
    "\n",
    "- **Automatycznym wyborze najistotniejszych cech:** Pakiet implementuje własne metody selekcji cech, które dynamicznie dostosowują się do danych. Nie bazuje na technikach takich jak SHAP, Boruta, SelectKBest czy ReliefF, ale wykorzystuje nowoczesne mechanizmy, takie jak trenowalne mechanizmy kontrolne oraz optymalizacja oparta na gradientach. \n",
    "\n",
    "  Przykładowo, klasa `EnhancedFeatureSelector` pozwala na:\n",
    "  - Selekcję cech za pomocą parametru `alpha`, który jest optymalizowany w procesie uczenia.\n",
    "  - Dynamiczne dostosowanie do różnych typów danych i rozmiarów zbiorów dzięki wbudowanym metodom, takim jak selekcja cech z wykorzystaniem optymalizacji modelu (`select_via_model_optimizer`).\n",
    "\n",
    "- **Optymalizacji modeli:** Pakiet oferuje zaawansowane mechanizmy dynamicznego dostrajania hiperparametrów. Dzięki klasie `ModelOptimizer` możliwe jest:\n",
    "  - Wykorzystanie metod takich jak Grid Search, Random Search oraz Optymalizacja Bayesowska.\n",
    "  - Dynamiczna zmiana metody optymalizacji w zależności od rozmiaru i charakteru danych, co pozwala na skalowanie rozwiązania do dużych zbiorów danych.\n",
    "\n",
    "- **Ocena modeli:** Dostarcza pełny zestaw metryk takich jak AUC, dokładność, precyzja, czułość i F1-score, a także wizualizacje w postaci macierzy konfuzji i krzywych ROC oraz Precision-Recall.\n",
    "\n",
    "- **Wsparcie dla systemów rekomendacji:** Usprawnia proces selekcji cech oraz optymalizację modeli dla głębokich systemów rekomendacji, co ma zastosowanie w branży e-commerce, streamingu i innych dziedzinach wymagających personalizacji treści.\n",
    "\n",
    "Pakiet inspirowany był pracą *[AutoField: Automating Feature Selection in Deep Recommender Systems](https://arxiv.org/pdf/2204.09078)*. Autorzy artykułu omawiają różne techniki selekcji cech, w tym:\n",
    "\n",
    "- **Manualna selekcja:** Skuteczna, ale czasochłonna i wymagająca wiedzy eksperckiej.\n",
    "- **Grid/Random Search:** Dobre dla małych zbiorów danych, ale trudne do skalowania.\n",
    "- **Lasso/Decision Trees:** Popularne w ogólnych zastosowaniach, ale mniej efektywne w głębokich systemach rekomendacji.\n",
    "\n",
    "\n",
    "Dzięki integracji wielu metod, FeatureFlex automatyzuje proces selekcji cech i optymalizacji, dostarczając użytkownikom zaawansowane narzędzie AutoML.\n",
    "\n",
    "---\n",
    "\n",
    "## Wstępne wspomnienie porównanie z podobnymi pakietami\n",
    "\n",
    "Podobne pakiety, takie jak **Boruta**, **SHAP**, **AutoFeat** i **ReliefF**, oferują ciekawe funkcjonalności, ale często ograniczają się do jednej konkretnej techniki. **FeatureFlex** wyróżnia się wszechstronnością, wykorzystaniem własnych metod selekcji cech oraz możliwością dynamicznej optymalizacji modeli, co czyni go bardziej elastycznym i skalowalnym rozwiązaniem.\n",
    "\n"
   ]
  },
  {
   "cell_type": "markdown",
   "metadata": {},
   "source": [
    "Pakiet FeatureFlex 0.1.12 zawiera zestaw narzędzi do przetwarzania danych, selekcji i optymalizacji modeli, oraz ewaluacji wyników, które razem tworzą kompleksowe środowisko AutoML do zastosowań w systemach rekomendacji opartych na głębokim uczeniu. Oto szczegółowy opis głównych komponentów pakietu:\n",
    "\n",
    "### 1. Przetwarzanie danych (Data Preprocessing)\n",
    "\n",
    "**`DataPreprocessor`**:\n",
    "- **Opis**: Klasa służąca do wstępnego przetwarzania danych, w tym obsługi brakujących danych, skalowania i kodowania. \n",
    "- **Metody**:\n",
    "  - `preprocess(data, target_column, selected_features=None)`: Przyjmuje ramkę danych (DataFrame), nazwę kolumny docelowej oraz opcjonalnie indeksy wybranych cech. Zwraca przetworzone cechy (X), etykiety (y) oraz obiekt transformatora.\n",
    "  - **Składniki przetwarzania**:\n",
    "    - Imputacja brakujących wartości dla zmiennych kategorycznych i numerycznych.\n",
    "    - Skalowanie zmiennych numerycznych.\n",
    "    - Kodowanie One-Hot dla zmiennych kategorycznych.\n",
    "\n",
    "### 2. Selekcja i optymalizacja modeli\n",
    "\n",
    "**`EnhancedFeatureSelector`** (Rozszerzony selektor cech):\n",
    "- **Opis**: Klasa oparta na modelach głębokiego uczenia do dynamicznego wyboru cech.\n",
    "- **Metody**:\n",
    "  - `select_via_shap(X, y, n_features=10)`: Wykorzystuje SHAP do wyboru najważniejszych cech za pomocą RandomForestClassifier.\n",
    "  - `select_via_model_optimizer(X, y, n_features=10, param_grids=None, method=\"dynamic\")`: Pozwala na dynamiczny wybór cech poprzez automatyzację procesu optymalizacji modeli.\n",
    "\n",
    "**`ModelOptimizer`**:\n",
    "- **Opis**: Klasa do automatyzacji wyboru i optymalizacji modeli klasyfikacyjnych.\n",
    "- **Metody**:\n",
    "  - `optimize_model(X, y, param_grids=None, method=\"grid\", n_iter_random=20, n_trials_bayes=50)`: Optymalizuje model używając wybranego sposobu (Grid Search, Random Search, Bayesian Optimization).\n",
    "  - **Obsługiwane modele**: RandomForest, GradientBoosting, LogisticRegression, SVM, XGBoost, KNN.\n",
    "  - Umożliwia dynamiczną zmianę metody optymalizacji w zależności od rozmiaru danych.\n",
    "\n",
    "### 3. Ewaluacja i podsumowanie wyników\n",
    "\n",
    "**`ModelEvaluator`**:\n",
    "- **Opis**: Klasa do obliczania metryk modeli, generowania wykresów i raportów.\n",
    "- **Metody**:\n",
    "  - `evaluate(model, X, y, output_format=\"console\", output_filename=\"evaluation_report.html\", output_path=None)`: Oblicza metryki modelu i opcjonalnie generuje raport HTML.\n",
    "  - **Metryki**: AUC, Accuracy, Precision, Recall, F1-Score.\n",
    "  - **Wyjście**: Raporty mogą być wyświetlane w konsoli lub zapisywane jako pliki HTML z dodatkowymi wykresami (macierz błędów, krzywa ROC, krzywa Precision-Recall).\n",
    "\n",
    "Każdy z tych komponentów został zaprojektowany tak, aby zapewnić elastyczność i efektywność w zarządzaniu dużymi zestawami danych, co jest kluczowe w aplikacjach wymagających szybkiego i dokładnego modelowania danych, jak np. w rekomendacjach produktów lub treści."
   ]
  },
  {
   "cell_type": "code",
   "execution_count": 55,
   "metadata": {},
   "outputs": [],
   "source": [
    "# import sys, os\n",
    "\n",
    "# current_dir = os.path.dirname(os.path.abspath(\"__file__\"))\n",
    "# src_path = os.path.abspath(os.path.join(current_dir, \"..\"))\n",
    "# sys.path.append(src_path)"
   ]
  },
  {
   "cell_type": "markdown",
   "metadata": {},
   "source": [
    "## Instalacja Pakietu"
   ]
  },
  {
   "cell_type": "code",
   "execution_count": 73,
   "metadata": {
    "vscode": {
     "languageId": "markdown"
    }
   },
   "outputs": [
    {
     "ename": "SyntaxError",
     "evalue": "invalid syntax (3268278751.py, line 1)",
     "output_type": "error",
     "traceback": [
      "\u001b[0;36m  Cell \u001b[0;32mIn[73], line 1\u001b[0;36m\u001b[0m\n\u001b[0;31m    Pakiet instalujemy z https://pypi.org/project/FeatureFlex/#FeatureFlex-0.1.16-py3-none-any.whl\u001b[0m\n\u001b[0m           ^\u001b[0m\n\u001b[0;31mSyntaxError\u001b[0m\u001b[0;31m:\u001b[0m invalid syntax\n"
     ]
    }
   ],
   "source": [
    "Pakiet instalujemy z https://pypi.org/project/FeatureFlex/#FeatureFlex-0.1.16-py3-none-any.whl"
   ]
  },
  {
   "cell_type": "code",
   "execution_count": 74,
   "metadata": {},
   "outputs": [
    {
     "name": "stderr",
     "output_type": "stream",
     "text": [
      "5585.74s - pydevd: Sending message related to process being replaced timed-out after 5 seconds\n"
     ]
    },
    {
     "name": "stdout",
     "output_type": "stream",
     "text": [
      "Found existing installation: FeatureFlex 0.1.44\n",
      "Uninstalling FeatureFlex-0.1.44:\n",
      "  Successfully uninstalled FeatureFlex-0.1.44\n",
      "Note: you may need to restart the kernel to use updated packages.\n"
     ]
    }
   ],
   "source": [
    "pip uninstall FeatureFlex featureflex -y\n"
   ]
  },
  {
   "cell_type": "code",
   "execution_count": 75,
   "metadata": {},
   "outputs": [
    {
     "name": "stderr",
     "output_type": "stream",
     "text": [
      "5593.71s - pydevd: Sending message related to process being replaced timed-out after 5 seconds\n"
     ]
    },
    {
     "name": "stdout",
     "output_type": "stream",
     "text": [
      "Collecting FeatureFlex\n",
      "  Using cached FeatureFlex-0.1.44-py3-none-any.whl.metadata (8.4 kB)\n",
      "Requirement already satisfied: alembic==1.14.0 in /home/kaliuser/Documents/portfolio/commercial_apps/CS-MINI-2024Z-AutoML_project_2/venv/lib/python3.12/site-packages (from FeatureFlex) (1.14.0)\n",
      "Requirement already satisfied: autofeat==2.1.3 in /home/kaliuser/Documents/portfolio/commercial_apps/CS-MINI-2024Z-AutoML_project_2/venv/lib/python3.12/site-packages (from FeatureFlex) (2.1.3)\n",
      "Requirement already satisfied: Boruta==0.4.3 in /home/kaliuser/Documents/portfolio/commercial_apps/CS-MINI-2024Z-AutoML_project_2/venv/lib/python3.12/site-packages (from FeatureFlex) (0.4.3)\n",
      "Requirement already satisfied: certifi==2024.12.14 in /home/kaliuser/Documents/portfolio/commercial_apps/CS-MINI-2024Z-AutoML_project_2/venv/lib/python3.12/site-packages (from FeatureFlex) (2024.12.14)\n",
      "Requirement already satisfied: charset-normalizer==3.4.1 in /home/kaliuser/Documents/portfolio/commercial_apps/CS-MINI-2024Z-AutoML_project_2/venv/lib/python3.12/site-packages (from FeatureFlex) (3.4.1)\n",
      "Requirement already satisfied: cloudpickle==3.1.0 in /home/kaliuser/Documents/portfolio/commercial_apps/CS-MINI-2024Z-AutoML_project_2/venv/lib/python3.12/site-packages (from FeatureFlex) (3.1.0)\n",
      "Requirement already satisfied: colorlog==6.9.0 in /home/kaliuser/Documents/portfolio/commercial_apps/CS-MINI-2024Z-AutoML_project_2/venv/lib/python3.12/site-packages (from FeatureFlex) (6.9.0)\n",
      "Requirement already satisfied: contourpy==1.3.1 in /home/kaliuser/Documents/portfolio/commercial_apps/CS-MINI-2024Z-AutoML_project_2/venv/lib/python3.12/site-packages (from FeatureFlex) (1.3.1)\n",
      "Requirement already satisfied: cycler==0.12.1 in /home/kaliuser/Documents/portfolio/commercial_apps/CS-MINI-2024Z-AutoML_project_2/venv/lib/python3.12/site-packages (from FeatureFlex) (0.12.1)\n",
      "Requirement already satisfied: filelock==3.16.1 in /home/kaliuser/Documents/portfolio/commercial_apps/CS-MINI-2024Z-AutoML_project_2/venv/lib/python3.12/site-packages (from FeatureFlex) (3.16.1)\n",
      "Requirement already satisfied: flexcache==0.3 in /home/kaliuser/Documents/portfolio/commercial_apps/CS-MINI-2024Z-AutoML_project_2/venv/lib/python3.12/site-packages (from FeatureFlex) (0.3)\n",
      "Requirement already satisfied: flexparser==0.4 in /home/kaliuser/Documents/portfolio/commercial_apps/CS-MINI-2024Z-AutoML_project_2/venv/lib/python3.12/site-packages (from FeatureFlex) (0.4)\n",
      "Requirement already satisfied: fonttools==4.55.3 in /home/kaliuser/Documents/portfolio/commercial_apps/CS-MINI-2024Z-AutoML_project_2/venv/lib/python3.12/site-packages (from FeatureFlex) (4.55.3)\n",
      "Requirement already satisfied: fsspec==2024.12.0 in /home/kaliuser/Documents/portfolio/commercial_apps/CS-MINI-2024Z-AutoML_project_2/venv/lib/python3.12/site-packages (from FeatureFlex) (2024.12.0)\n",
      "Requirement already satisfied: greenlet==3.1.1 in /home/kaliuser/Documents/portfolio/commercial_apps/CS-MINI-2024Z-AutoML_project_2/venv/lib/python3.12/site-packages (from FeatureFlex) (3.1.1)\n",
      "Requirement already satisfied: idna==3.10 in /home/kaliuser/Documents/portfolio/commercial_apps/CS-MINI-2024Z-AutoML_project_2/venv/lib/python3.12/site-packages (from FeatureFlex) (3.10)\n",
      "Requirement already satisfied: imbalanced-learn==0.13.0 in /home/kaliuser/Documents/portfolio/commercial_apps/CS-MINI-2024Z-AutoML_project_2/venv/lib/python3.12/site-packages (from FeatureFlex) (0.13.0)\n",
      "Requirement already satisfied: imblearn==0.0 in /home/kaliuser/Documents/portfolio/commercial_apps/CS-MINI-2024Z-AutoML_project_2/venv/lib/python3.12/site-packages (from FeatureFlex) (0.0)\n",
      "Requirement already satisfied: Jinja2==3.1.5 in /home/kaliuser/Documents/portfolio/commercial_apps/CS-MINI-2024Z-AutoML_project_2/venv/lib/python3.12/site-packages (from FeatureFlex) (3.1.5)\n",
      "Requirement already satisfied: joblib==1.4.2 in /home/kaliuser/Documents/portfolio/commercial_apps/CS-MINI-2024Z-AutoML_project_2/venv/lib/python3.12/site-packages (from FeatureFlex) (1.4.2)\n",
      "Requirement already satisfied: kagglehub==0.3.6 in /home/kaliuser/Documents/portfolio/commercial_apps/CS-MINI-2024Z-AutoML_project_2/venv/lib/python3.12/site-packages (from FeatureFlex) (0.3.6)\n",
      "Requirement already satisfied: kiwisolver==1.4.8 in /home/kaliuser/Documents/portfolio/commercial_apps/CS-MINI-2024Z-AutoML_project_2/venv/lib/python3.12/site-packages (from FeatureFlex) (1.4.8)\n",
      "Requirement already satisfied: lightgbm==4.5.0 in /home/kaliuser/Documents/portfolio/commercial_apps/CS-MINI-2024Z-AutoML_project_2/venv/lib/python3.12/site-packages (from FeatureFlex) (4.5.0)\n",
      "Requirement already satisfied: llvmlite==0.43.0 in /home/kaliuser/Documents/portfolio/commercial_apps/CS-MINI-2024Z-AutoML_project_2/venv/lib/python3.12/site-packages (from FeatureFlex) (0.43.0)\n",
      "Requirement already satisfied: Mako==1.3.8 in /home/kaliuser/Documents/portfolio/commercial_apps/CS-MINI-2024Z-AutoML_project_2/venv/lib/python3.12/site-packages (from FeatureFlex) (1.3.8)\n",
      "Requirement already satisfied: MarkupSafe==3.0.2 in /home/kaliuser/Documents/portfolio/commercial_apps/CS-MINI-2024Z-AutoML_project_2/venv/lib/python3.12/site-packages (from FeatureFlex) (3.0.2)\n",
      "Requirement already satisfied: matplotlib==3.10.0 in /home/kaliuser/Documents/portfolio/commercial_apps/CS-MINI-2024Z-AutoML_project_2/venv/lib/python3.12/site-packages (from FeatureFlex) (3.10.0)\n",
      "Requirement already satisfied: mpmath==1.3.0 in /home/kaliuser/Documents/portfolio/commercial_apps/CS-MINI-2024Z-AutoML_project_2/venv/lib/python3.12/site-packages (from FeatureFlex) (1.3.0)\n",
      "Requirement already satisfied: networkx==3.4.2 in /home/kaliuser/Documents/portfolio/commercial_apps/CS-MINI-2024Z-AutoML_project_2/venv/lib/python3.12/site-packages (from FeatureFlex) (3.4.2)\n",
      "Requirement already satisfied: numba==0.60.0 in /home/kaliuser/Documents/portfolio/commercial_apps/CS-MINI-2024Z-AutoML_project_2/venv/lib/python3.12/site-packages (from FeatureFlex) (0.60.0)\n",
      "Requirement already satisfied: numpy==1.26.4 in /home/kaliuser/Documents/portfolio/commercial_apps/CS-MINI-2024Z-AutoML_project_2/venv/lib/python3.12/site-packages (from FeatureFlex) (1.26.4)\n",
      "Requirement already satisfied: nvidia-cublas-cu12==12.4.5.8 in /home/kaliuser/Documents/portfolio/commercial_apps/CS-MINI-2024Z-AutoML_project_2/venv/lib/python3.12/site-packages (from FeatureFlex) (12.4.5.8)\n",
      "Requirement already satisfied: nvidia-cuda-cupti-cu12==12.4.127 in /home/kaliuser/Documents/portfolio/commercial_apps/CS-MINI-2024Z-AutoML_project_2/venv/lib/python3.12/site-packages (from FeatureFlex) (12.4.127)\n",
      "Requirement already satisfied: nvidia-cuda-nvrtc-cu12==12.4.127 in /home/kaliuser/Documents/portfolio/commercial_apps/CS-MINI-2024Z-AutoML_project_2/venv/lib/python3.12/site-packages (from FeatureFlex) (12.4.127)\n",
      "Requirement already satisfied: nvidia-cuda-runtime-cu12==12.4.127 in /home/kaliuser/Documents/portfolio/commercial_apps/CS-MINI-2024Z-AutoML_project_2/venv/lib/python3.12/site-packages (from FeatureFlex) (12.4.127)\n",
      "Requirement already satisfied: nvidia-cudnn-cu12==9.1.0.70 in /home/kaliuser/Documents/portfolio/commercial_apps/CS-MINI-2024Z-AutoML_project_2/venv/lib/python3.12/site-packages (from FeatureFlex) (9.1.0.70)\n",
      "Requirement already satisfied: nvidia-cufft-cu12==11.2.1.3 in /home/kaliuser/Documents/portfolio/commercial_apps/CS-MINI-2024Z-AutoML_project_2/venv/lib/python3.12/site-packages (from FeatureFlex) (11.2.1.3)\n",
      "Requirement already satisfied: nvidia-curand-cu12==10.3.5.147 in /home/kaliuser/Documents/portfolio/commercial_apps/CS-MINI-2024Z-AutoML_project_2/venv/lib/python3.12/site-packages (from FeatureFlex) (10.3.5.147)\n",
      "Requirement already satisfied: nvidia-cusolver-cu12==11.6.1.9 in /home/kaliuser/Documents/portfolio/commercial_apps/CS-MINI-2024Z-AutoML_project_2/venv/lib/python3.12/site-packages (from FeatureFlex) (11.6.1.9)\n",
      "Requirement already satisfied: nvidia-cusparse-cu12==12.3.1.170 in /home/kaliuser/Documents/portfolio/commercial_apps/CS-MINI-2024Z-AutoML_project_2/venv/lib/python3.12/site-packages (from FeatureFlex) (12.3.1.170)\n",
      "Requirement already satisfied: nvidia-nccl-cu12==2.21.5 in /home/kaliuser/Documents/portfolio/commercial_apps/CS-MINI-2024Z-AutoML_project_2/venv/lib/python3.12/site-packages (from FeatureFlex) (2.21.5)\n",
      "Requirement already satisfied: nvidia-nvjitlink-cu12==12.4.127 in /home/kaliuser/Documents/portfolio/commercial_apps/CS-MINI-2024Z-AutoML_project_2/venv/lib/python3.12/site-packages (from FeatureFlex) (12.4.127)\n",
      "Requirement already satisfied: nvidia-nvtx-cu12==12.4.127 in /home/kaliuser/Documents/portfolio/commercial_apps/CS-MINI-2024Z-AutoML_project_2/venv/lib/python3.12/site-packages (from FeatureFlex) (12.4.127)\n",
      "Requirement already satisfied: optuna==4.1.0 in /home/kaliuser/Documents/portfolio/commercial_apps/CS-MINI-2024Z-AutoML_project_2/venv/lib/python3.12/site-packages (from FeatureFlex) (4.1.0)\n",
      "Requirement already satisfied: packaging==24.2 in /home/kaliuser/Documents/portfolio/commercial_apps/CS-MINI-2024Z-AutoML_project_2/venv/lib/python3.12/site-packages (from FeatureFlex) (24.2)\n",
      "Requirement already satisfied: pandas==2.2.3 in /home/kaliuser/Documents/portfolio/commercial_apps/CS-MINI-2024Z-AutoML_project_2/venv/lib/python3.12/site-packages (from FeatureFlex) (2.2.3)\n",
      "Requirement already satisfied: pdfkit==1.0.0 in /home/kaliuser/Documents/portfolio/commercial_apps/CS-MINI-2024Z-AutoML_project_2/venv/lib/python3.12/site-packages (from FeatureFlex) (1.0.0)\n",
      "Requirement already satisfied: pillow==11.0.0 in /home/kaliuser/Documents/portfolio/commercial_apps/CS-MINI-2024Z-AutoML_project_2/venv/lib/python3.12/site-packages (from FeatureFlex) (11.0.0)\n",
      "Requirement already satisfied: Pint==0.24.4 in /home/kaliuser/Documents/portfolio/commercial_apps/CS-MINI-2024Z-AutoML_project_2/venv/lib/python3.12/site-packages (from FeatureFlex) (0.24.4)\n",
      "Requirement already satisfied: platformdirs==4.3.6 in /home/kaliuser/Documents/portfolio/commercial_apps/CS-MINI-2024Z-AutoML_project_2/venv/lib/python3.12/site-packages (from FeatureFlex) (4.3.6)\n",
      "Requirement already satisfied: pyparsing==3.2.1 in /home/kaliuser/Documents/portfolio/commercial_apps/CS-MINI-2024Z-AutoML_project_2/venv/lib/python3.12/site-packages (from FeatureFlex) (3.2.1)\n",
      "Requirement already satisfied: python-dateutil==2.9.0.post0 in /home/kaliuser/Documents/portfolio/commercial_apps/CS-MINI-2024Z-AutoML_project_2/venv/lib/python3.12/site-packages (from FeatureFlex) (2.9.0.post0)\n",
      "Requirement already satisfied: pytz==2024.2 in /home/kaliuser/Documents/portfolio/commercial_apps/CS-MINI-2024Z-AutoML_project_2/venv/lib/python3.12/site-packages (from FeatureFlex) (2024.2)\n",
      "Requirement already satisfied: PyYAML==6.0.2 in /home/kaliuser/Documents/portfolio/commercial_apps/CS-MINI-2024Z-AutoML_project_2/venv/lib/python3.12/site-packages (from FeatureFlex) (6.0.2)\n",
      "Requirement already satisfied: requests==2.32.3 in /home/kaliuser/Documents/portfolio/commercial_apps/CS-MINI-2024Z-AutoML_project_2/venv/lib/python3.12/site-packages (from FeatureFlex) (2.32.3)\n",
      "Requirement already satisfied: scikit-learn==1.5.0 in /home/kaliuser/Documents/portfolio/commercial_apps/CS-MINI-2024Z-AutoML_project_2/venv/lib/python3.12/site-packages (from FeatureFlex) (1.5.0)\n",
      "Requirement already satisfied: scipy==1.14.1 in /home/kaliuser/Documents/portfolio/commercial_apps/CS-MINI-2024Z-AutoML_project_2/venv/lib/python3.12/site-packages (from FeatureFlex) (1.14.1)\n",
      "Requirement already satisfied: setuptools==75.6.0 in /home/kaliuser/Documents/portfolio/commercial_apps/CS-MINI-2024Z-AutoML_project_2/venv/lib/python3.12/site-packages (from FeatureFlex) (75.6.0)\n",
      "Requirement already satisfied: shap==0.46.0 in /home/kaliuser/Documents/portfolio/commercial_apps/CS-MINI-2024Z-AutoML_project_2/venv/lib/python3.12/site-packages (from FeatureFlex) (0.46.0)\n",
      "Requirement already satisfied: six==1.17.0 in /home/kaliuser/Documents/portfolio/commercial_apps/CS-MINI-2024Z-AutoML_project_2/venv/lib/python3.12/site-packages (from FeatureFlex) (1.17.0)\n",
      "Requirement already satisfied: sklearn-compat==0.1.3 in /home/kaliuser/Documents/portfolio/commercial_apps/CS-MINI-2024Z-AutoML_project_2/venv/lib/python3.12/site-packages (from FeatureFlex) (0.1.3)\n",
      "Requirement already satisfied: slicer==0.0.8 in /home/kaliuser/Documents/portfolio/commercial_apps/CS-MINI-2024Z-AutoML_project_2/venv/lib/python3.12/site-packages (from FeatureFlex) (0.0.8)\n",
      "Requirement already satisfied: SQLAlchemy==2.0.36 in /home/kaliuser/Documents/portfolio/commercial_apps/CS-MINI-2024Z-AutoML_project_2/venv/lib/python3.12/site-packages (from FeatureFlex) (2.0.36)\n",
      "Requirement already satisfied: sympy==1.13.1 in /home/kaliuser/Documents/portfolio/commercial_apps/CS-MINI-2024Z-AutoML_project_2/venv/lib/python3.12/site-packages (from FeatureFlex) (1.13.1)\n",
      "Requirement already satisfied: threadpoolctl==3.5.0 in /home/kaliuser/Documents/portfolio/commercial_apps/CS-MINI-2024Z-AutoML_project_2/venv/lib/python3.12/site-packages (from FeatureFlex) (3.5.0)\n",
      "Requirement already satisfied: torch==2.5.1 in /home/kaliuser/Documents/portfolio/commercial_apps/CS-MINI-2024Z-AutoML_project_2/venv/lib/python3.12/site-packages (from FeatureFlex) (2.5.1)\n",
      "Requirement already satisfied: tqdm==4.67.1 in /home/kaliuser/Documents/portfolio/commercial_apps/CS-MINI-2024Z-AutoML_project_2/venv/lib/python3.12/site-packages (from FeatureFlex) (4.67.1)\n",
      "Requirement already satisfied: triton==3.1.0 in /home/kaliuser/Documents/portfolio/commercial_apps/CS-MINI-2024Z-AutoML_project_2/venv/lib/python3.12/site-packages (from FeatureFlex) (3.1.0)\n",
      "Requirement already satisfied: typing_extensions==4.12.2 in /home/kaliuser/Documents/portfolio/commercial_apps/CS-MINI-2024Z-AutoML_project_2/venv/lib/python3.12/site-packages (from FeatureFlex) (4.12.2)\n",
      "Requirement already satisfied: tzdata==2024.2 in /home/kaliuser/Documents/portfolio/commercial_apps/CS-MINI-2024Z-AutoML_project_2/venv/lib/python3.12/site-packages (from FeatureFlex) (2024.2)\n",
      "Requirement already satisfied: urllib3==2.3.0 in /home/kaliuser/Documents/portfolio/commercial_apps/CS-MINI-2024Z-AutoML_project_2/venv/lib/python3.12/site-packages (from FeatureFlex) (2.3.0)\n",
      "Requirement already satisfied: xgboost==2.1.3 in /home/kaliuser/Documents/portfolio/commercial_apps/CS-MINI-2024Z-AutoML_project_2/venv/lib/python3.12/site-packages (from FeatureFlex) (2.1.3)\n",
      "Using cached FeatureFlex-0.1.44-py3-none-any.whl (18 kB)\n",
      "Installing collected packages: FeatureFlex\n",
      "Successfully installed FeatureFlex-0.1.44\n",
      "Note: you may need to restart the kernel to use updated packages.\n"
     ]
    }
   ],
   "source": [
    "pip install FeatureFlex"
   ]
  },
  {
   "cell_type": "code",
   "execution_count": 76,
   "metadata": {},
   "outputs": [
    {
     "name": "stdout",
     "output_type": "stream",
     "text": [
      "['DataPreprocessor', 'DeepRecommendationModel', 'EnhancedFeatureSelector', 'ModelEvaluator', 'ModelOptimizer', '__all__', '__builtins__', '__cached__', '__doc__', '__file__', '__loader__', '__name__', '__package__', '__path__', '__spec__']\n"
     ]
    }
   ],
   "source": [
    "import FeatureFlex\n",
    "print(dir(FeatureFlex))\n"
   ]
  },
  {
   "cell_type": "markdown",
   "metadata": {},
   "source": [
    "## Przykładowy przepływ pracy\n",
    "\n",
    "### Krok 3: Wybór zbioru i przetwarzanie danych orazDomyślne przetwarzanie danych\n",
    "\n",
    "Pokażemy, jak przetwarzać dane za pomocą domyślnych ustawień klasy `DataPreprocessor`.\n"
   ]
  },
  {
   "cell_type": "code",
   "execution_count": 77,
   "metadata": {},
   "outputs": [
    {
     "name": "stdout",
     "output_type": "stream",
     "text": [
      "Wczytano zbiór: world-happiness-report-2021.csv\n",
      "Rozmiar zbioru treningowego: 119\n",
      "Rozmiar zbioru testowego: 30\n"
     ]
    }
   ],
   "source": [
    "import pandas as pd\n",
    "from sklearn.model_selection import train_test_split\n",
    "from FeatureFlex import DataPreprocessor\n",
    "\n",
    "# Wybór zbioru danych\n",
    "dataset = \"./data/world-happiness-report-2021.csv\"\n",
    "data = pd.read_csv(dataset)\n",
    "print(\"Wczytano zbiór: world-happiness-report-2021.csv\")\n",
    "\n",
    "# Określenie zbioru cech\n",
    "columns = [\n",
    "    \"Country name\", \"Regional indicator\", \"Ladder score\", \"Logged GDP per capita\", \n",
    "    \"Social support\", \"Healthy life expectancy\", \"Freedom to make life choices\", \n",
    "    \"Generosity\", \"Perceptions of corruption\"\n",
    "]\n",
    "data = data[columns]\n",
    "\n",
    "target_column = \"Ladder score\"\n",
    "data[target_column] = (data[target_column] > data[target_column].mean()).astype(int)\n",
    "\n",
    "# Przetwarzanie danych\n",
    "preprocessor = DataPreprocessor()\n",
    "X, y, _ = preprocessor.preprocess(\n",
    "    data,               # zbiór danych w postaci ramki\n",
    "    target_column       # nazwa kolumny zawierającej etykiety\n",
    ")\n",
    "\n",
    "# Podział przetworzonego zbioru na treningowy i testowy\n",
    "X_train, X_test, y_train, y_test = train_test_split(X, y, test_size=0.2, random_state=42)\n",
    "\n",
    "print(f\"Rozmiar zbioru treningowego: {X_train.shape[0]}\")\n",
    "print(f\"Rozmiar zbioru testowego: {X_test.shape[0]}\")"
   ]
  },
  {
   "cell_type": "markdown",
   "metadata": {},
   "source": [
    "## Krok 4: Zaawansowane przetwarzanie z niestandardowymi ustawieniami\n",
    "\n",
    "Demonstracja zaawansowanych możliwości przetwarzania z:\n",
    "- Skalowaniem `robust`\n",
    "- Obsługą wartości odstających (outliers)\n",
    "- Generowaniem cech wielomianowych\n"
   ]
  },
  {
   "cell_type": "code",
   "execution_count": 78,
   "metadata": {},
   "outputs": [
    {
     "name": "stdout",
     "output_type": "stream",
     "text": [
      "Help on class DataPreprocessor in module FeatureFlex.preprocessing:\n",
      "\n",
      "class DataPreprocessor(builtins.object)\n",
      " |  Handles preprocessing of data including missing values, scaling, and encoding.\n",
      " |\n",
      " |  Methods defined here:\n",
      " |\n",
      " |  preprocess(self, data, target_column, selected_features=None)\n",
      " |      Preprocess the dataset and optionally apply feature selection.\n",
      " |\n",
      " |      :param data: Input dataset (pandas DataFrame).\n",
      " |      :param target_column: Name of the target column in the DataFrame.\n",
      " |      :param selected_features: List of selected feature indices (optional).\n",
      " |      :return: (X_preprocessed, y, preprocessor)\n",
      " |\n",
      " |  ----------------------------------------------------------------------\n",
      " |  Data descriptors defined here:\n",
      " |\n",
      " |  __dict__\n",
      " |      dictionary for instance variables\n",
      " |\n",
      " |  __weakref__\n",
      " |      list of weak references to the object\n",
      "\n"
     ]
    },
    {
     "ename": "TypeError",
     "evalue": "DataPreprocessor() takes no arguments",
     "output_type": "error",
     "traceback": [
      "\u001b[0;31m---------------------------------------------------------------------------\u001b[0m",
      "\u001b[0;31mTypeError\u001b[0m                                 Traceback (most recent call last)",
      "Cell \u001b[0;32mIn[78], line 4\u001b[0m\n\u001b[1;32m      2\u001b[0m help(DataPreprocessor)\n\u001b[1;32m      3\u001b[0m \u001b[38;5;66;03m# Zaawansowane przetwarzanie danych\u001b[39;00m\n\u001b[0;32m----> 4\u001b[0m preprocessor_advanced \u001b[38;5;241m=\u001b[39m \u001b[43mDataPreprocessor\u001b[49m\u001b[43m(\u001b[49m\n\u001b[1;32m      5\u001b[0m \u001b[43m    \u001b[49m\u001b[43mscale_method\u001b[49m\u001b[38;5;241;43m=\u001b[39;49m\u001b[38;5;124;43m\"\u001b[39;49m\u001b[38;5;124;43mrobust\u001b[39;49m\u001b[38;5;124;43m\"\u001b[39;49m\u001b[43m,\u001b[49m\u001b[43m      \u001b[49m\u001b[38;5;66;43;03m# Skalowanie za pomocą RobustScaler\u001b[39;49;00m\n\u001b[1;32m      6\u001b[0m \u001b[43m    \u001b[49m\u001b[43mhandle_outliers\u001b[49m\u001b[38;5;241;43m=\u001b[39;49m\u001b[38;5;28;43;01mTrue\u001b[39;49;00m\u001b[43m,\u001b[49m\u001b[43m       \u001b[49m\u001b[38;5;66;43;03m# Obsługa wartości odstających\u001b[39;49;00m\n\u001b[1;32m      7\u001b[0m \u001b[43m    \u001b[49m\u001b[43minclude_interactions\u001b[49m\u001b[38;5;241;43m=\u001b[39;49m\u001b[38;5;28;43;01mTrue\u001b[39;49;00m\u001b[43m,\u001b[49m\u001b[43m   \u001b[49m\u001b[38;5;66;43;03m# Dodawanie interakcji między cechami\u001b[39;49;00m\n\u001b[1;32m      8\u001b[0m \u001b[43m    \u001b[49m\u001b[43mdate_columns\u001b[49m\u001b[38;5;241;43m=\u001b[39;49m\u001b[38;5;28;43;01mNone\u001b[39;49;00m\n\u001b[1;32m      9\u001b[0m \u001b[43m)\u001b[49m\n\u001b[1;32m     11\u001b[0m X_advanced, y_advanced, _ \u001b[38;5;241m=\u001b[39m preprocessor_advanced\u001b[38;5;241m.\u001b[39mpreprocess(\n\u001b[1;32m     12\u001b[0m     data,               \u001b[38;5;66;03m# Dane wejściowe\u001b[39;00m\n\u001b[1;32m     13\u001b[0m     target_column       \u001b[38;5;66;03m# Kolumna docelowa\u001b[39;00m\n\u001b[1;32m     14\u001b[0m )\n\u001b[1;32m     16\u001b[0m \u001b[38;5;66;03m# Podział na zbiór treningowy i testowy\u001b[39;00m\n",
      "\u001b[0;31mTypeError\u001b[0m: DataPreprocessor() takes no arguments"
     ]
    }
   ],
   "source": [
    "from FeatureFlex import DataPreprocessor\n",
    "help(DataPreprocessor)\n",
    "# Zaawansowane przetwarzanie danych\n",
    "preprocessor_advanced = DataPreprocessor(\n",
    "    scale_method=\"robust\",      # Skalowanie za pomocą RobustScaler\n",
    "    handle_outliers=True,       # Obsługa wartości odstających\n",
    "    include_interactions=True,   # Dodawanie interakcji między cechami\n",
    "    date_columns=None\n",
    ")\n",
    "\n",
    "X_advanced, y_advanced, _ = preprocessor_advanced.preprocess(\n",
    "    data,               # Dane wejściowe\n",
    "    target_column       # Kolumna docelowa\n",
    ")\n",
    "\n",
    "# Podział na zbiór treningowy i testowy\n",
    "X_train_adv, X_test_adv, y_train_adv, y_test_adv = train_test_split(\n",
    "    X_advanced, y_advanced, test_size=0.2, random_state=42\n",
    ")\n",
    "\n",
    "print(f\"Rozmiar zaawansowanego zbioru treningowego: {X_train_adv.shape[0]}\")\n",
    "print(f\"Rozmiar zaawansowanego zbioru testowego: {X_test_adv.shape[0]}\")\n"
   ]
  },
  {
   "cell_type": "markdown",
   "metadata": {},
   "source": [
    "### Wybór najistotniejszych cech"
   ]
  },
  {
   "cell_type": "code",
   "execution_count": 40,
   "metadata": {},
   "outputs": [
    {
     "name": "stderr",
     "output_type": "stream",
     "text": [
      "Model Optimization:   0%|          | 0/6 [00:00<?, ?it/s]/home/kaliuser/Documents/portfolio/commercial_apps/CS-MINI-2024Z-AutoML_project_2/venv/lib/python3.12/site-packages/sklearn/model_selection/_search.py:320: UserWarning: The total space of parameters 18 is smaller than n_iter=20. Running 18 iterations. For exhaustive searches, use GridSearchCV.\n",
      "  warnings.warn(\n",
      "Model Optimization:  17%|█▋        | 1/6 [00:11<00:56, 11.34s/it]/home/kaliuser/Documents/portfolio/commercial_apps/CS-MINI-2024Z-AutoML_project_2/venv/lib/python3.12/site-packages/sklearn/model_selection/_search.py:320: UserWarning: The total space of parameters 12 is smaller than n_iter=20. Running 12 iterations. For exhaustive searches, use GridSearchCV.\n",
      "  warnings.warn(\n",
      "Model Optimization:  33%|███▎      | 2/6 [00:15<00:29,  7.31s/it]/home/kaliuser/Documents/portfolio/commercial_apps/CS-MINI-2024Z-AutoML_project_2/venv/lib/python3.12/site-packages/sklearn/model_selection/_search.py:320: UserWarning: The total space of parameters 6 is smaller than n_iter=20. Running 6 iterations. For exhaustive searches, use GridSearchCV.\n",
      "  warnings.warn(\n",
      "Model Optimization:  50%|█████     | 3/6 [00:16<00:12,  4.08s/it]/home/kaliuser/Documents/portfolio/commercial_apps/CS-MINI-2024Z-AutoML_project_2/venv/lib/python3.12/site-packages/sklearn/model_selection/_search.py:320: UserWarning: The total space of parameters 6 is smaller than n_iter=20. Running 6 iterations. For exhaustive searches, use GridSearchCV.\n",
      "  warnings.warn(\n",
      "Model Optimization:  83%|████████▎ | 5/6 [00:19<00:02,  2.83s/it]/home/kaliuser/Documents/portfolio/commercial_apps/CS-MINI-2024Z-AutoML_project_2/venv/lib/python3.12/site-packages/sklearn/model_selection/_search.py:320: UserWarning: The total space of parameters 6 is smaller than n_iter=20. Running 6 iterations. For exhaustive searches, use GridSearchCV.\n",
      "  warnings.warn(\n",
      "Model Optimization: 100%|██████████| 6/6 [00:19<00:00,  3.29s/it]\n"
     ]
    }
   ],
   "source": [
    "from FeatureFlex import EnhancedFeatureSelector\n",
    "\n",
    "selector = EnhancedFeatureSelector(\n",
    "    input_dim=X_train.shape[1]  # liczba kolumn\n",
    ")\n",
    "\n",
    "# Wybór liczby i metody ekstrakcji cech\n",
    "n_features = 10\n",
    "# top_features = selector.select_via_shap(X_train, y_train, n_features=n_features)\n",
    "top_features = selector.select_via_model_optimizer(X_train, y_train, n_features=n_features)\n",
    "\n",
    "reduced_selector = EnhancedFeatureSelector(input_dim=len(top_features))\n",
    "\n",
    "# Ograniczenie zbioru danych do wyekstrahowanych cech\n",
    "if hasattr(X_train, \"toarray\"):\n",
    "    X_train_dense = X_train.toarray()[:, top_features]\n",
    "    X_test_dense = X_test.toarray()[:, top_features]\n",
    "else:\n",
    "    X_train_dense = X_train[:, top_features]\n",
    "    X_test_dense = X_test[:, top_features]"
   ]
  },
  {
   "cell_type": "markdown",
   "metadata": {},
   "source": [
    "### Wybór i optymalizacja modelu"
   ]
  },
  {
   "cell_type": "code",
   "execution_count": 41,
   "metadata": {},
   "outputs": [
    {
     "name": "stderr",
     "output_type": "stream",
     "text": [
      "Model Optimization: 100%|██████████| 6/6 [00:22<00:00,  3.70s/it]"
     ]
    },
    {
     "name": "stdout",
     "output_type": "stream",
     "text": [
      "Best Model Score (CV AUC): 0.9779316712834719\n"
     ]
    },
    {
     "name": "stderr",
     "output_type": "stream",
     "text": [
      "\n"
     ]
    }
   ],
   "source": [
    "from imblearn.combine import SMOTETomek\n",
    "from FeatureFlex import ModelOptimizer\n",
    "    \n",
    "# Opcjonalnie: redukcja nierówności powstałych w zbiorze,\n",
    "# stosując technikę oversamplingu SMOTE-Tomek\n",
    "smote_tomek = SMOTETomek(random_state=42)\n",
    "X_train_res, y_train_res = smote_tomek.fit_resample(X_train_dense, y_train)\n",
    "\n",
    "# Wybór i optymalizacja modelu\n",
    "optimizer = ModelOptimizer()\n",
    "best_model, best_score = optimizer.optimize_model(\n",
    "    X_train_res,    # macierz cech\n",
    "    y_train_res     # wektor etykiet\n",
    ")\n",
    "print(f\"Best Model Score (CV AUC): {best_score}\")"
   ]
  },
  {
   "cell_type": "markdown",
   "metadata": {},
   "source": [
    "### Ewaluacja uzyskanego modelu"
   ]
  },
  {
   "cell_type": "code",
   "execution_count": 43,
   "metadata": {},
   "outputs": [
    {
     "name": "stdout",
     "output_type": "stream",
     "text": [
      "Evaluating model predictions...\n",
      "\n",
      "=== Evaluation Metrics ===\n",
      "AUC: 0.9420\n",
      "Accuracy: 0.9000\n",
      "Precision: 0.9333\n",
      "Recall: 0.8750\n",
      "F1-Score: 0.9032\n",
      "\n",
      "=== Confusion Matrix ===\n",
      "[[13  1]\n",
      " [ 2 14]]\n",
      "\n",
      "=== Classification Report ===\n",
      "              precision    recall  f1-score   support\n",
      "\n",
      "           0     0.8667    0.9286    0.8966        14\n",
      "           1     0.9333    0.8750    0.9032        16\n",
      "\n",
      "    accuracy                         0.9000        30\n",
      "   macro avg     0.9000    0.9018    0.8999        30\n",
      "weighted avg     0.9022    0.9000    0.9001        30\n",
      "\n",
      "Evaluation Results: {'AUC': 0.9419642857142857, 'Accuracy': 0.9, 'Precision': 0.9333333333333333, 'Recall': 0.875, 'F1-Score': 0.9032258064516129}\n"
     ]
    }
   ],
   "source": [
    "from FeatureFlex import ModelEvaluator\n",
    "\n",
    "evaluator = ModelEvaluator()\n",
    "evaluation_results = evaluator.evaluate(\n",
    "    best_model,                     # wybrany model\n",
    "    X_test_dense,                   # macierz cech\n",
    "    y_test,                         # wektor etykiet\n",
    "    output_format=\"console\",        # metoda prezentacji - \"console\" lub \"html\"\n",
    ")\n",
    "print(\"Evaluation Results:\", evaluation_results)"
   ]
  },
  {
   "cell_type": "markdown",
   "metadata": {},
   "source": [
    "### Automatyzacja\n",
    "W pliku `main.py` dostępna jest funkcja pozwalająca na automatyzację całego przedstawionego procesu. Użyjemy jej do wygenerowania raportu w postaci HTML."
   ]
  },
  {
   "cell_type": "code",
   "execution_count": null,
   "metadata": {},
   "outputs": [],
   "source": []
  },
  {
   "cell_type": "code",
   "execution_count": null,
   "metadata": {},
   "outputs": [],
   "source": [
    "from main import preprocess_and_train\n",
    "from IPython.display import HTML\n",
    "\n",
    "preprocess_and_train(data, target_column=target_column, output_filename=\"evaluation_report_happiness.html\", output_path=\".\")\n",
    "HTML(filename=\"./evaluation_report_happiness.html\")"
   ]
  }
 ],
 "metadata": {
  "kernelspec": {
   "display_name": "venv",
   "language": "python",
   "name": "python3"
  },
  "language_info": {
   "codemirror_mode": {
    "name": "ipython",
    "version": 3
   },
   "file_extension": ".py",
   "mimetype": "text/x-python",
   "name": "python",
   "nbconvert_exporter": "python",
   "pygments_lexer": "ipython3",
   "version": "3.12.7"
  }
 },
 "nbformat": 4,
 "nbformat_minor": 2
}
