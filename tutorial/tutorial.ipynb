{
 "cells": [
  {
   "cell_type": "markdown",
   "metadata": {},
   "source": [
    "# FeatureFlex 0.1.12\n",
    "\n",
    "### Autorzy: Andrii Voznesenskyi, Bartosz Kaczorowski\n",
    "\n",
    "**FeatureFlex** to pakiet AutoML skierowany do badaczy i specjalistów zajmujących się systemami rekomendacji opartymi na głębokim uczeniu. Odpowiada on na problem efektywnego zarządzania cechami wejściowymi w dużych zestawach danych. Dzięki temu może stanowić świetne narzędzie dla firm e-commerce lub platform streamingowych, które wykorzystują systemy rekomendacji na co dzień.\n",
    "\n",
    "## Możliwości FeatureFlex\n",
    "\n",
    "**FeatureFlex** specjalizuje się w:\n",
    "\n",
    "- **Automatycznym wyborze najistotniejszych cech:** pakiet implementuje własne metody selekcji cech, które dynamicznie dostosowują się do danych. Nie bazuje na technikach takich jak SHAP, Boruta, SelectKBest czy ReliefF, ale wykorzystuje nowoczesne mechanizmy, takie jak trenowalne mechanizmy kontrolne oraz optymalizacja oparta na gradientach. \n",
    "\n",
    "  Przykładowo, klasa `EnhancedFeatureSelector` pozwala na:\n",
    "  - selekcję cech za pomocą parametru `alpha`, który jest optymalizowany w procesie uczenia,\n",
    "  - dynamiczne dostosowanie do różnych typów danych i rozmiarów zbiorów dzięki wbudowanym metodom, takim jak selekcja cech z wykorzystaniem optymalizacji modelu (`select_via_model_optimizer`).\n",
    "\n",
    "- **Optymalizacji modeli:** pakiet oferuje zaawansowane mechanizmy dynamicznego dostrajania hiperparametrów. Dzięki klasie `ModelOptimizer` możliwe jest:\n",
    "  - wykorzystanie metod takich jak Grid Search, Random Search oraz Optymalizacja Bayesowska,\n",
    "  - dynamiczna zmiana metody optymalizacji w zależności od rozmiaru i charakteru danych, co pozwala na skalowanie rozwiązania do dużych zbiorów danych.\n",
    "\n",
    "- **Ocenie modeli:** pakiet dostarcza pełny zestaw metryk takich jak AUC, dokładność, precyzja, czułość i F1-score, a także wizualizacje w postaci macierzy konfuzji i krzywych ROC oraz Precision-Recall.\n",
    "\n",
    "- **Wsparciu dla systemów rekomendacji:** pakiet usprawnia proces selekcji cech oraz optymalizację modeli dla głębokich systemów rekomendacji, co ma zastosowanie w branży e-commerce, streamingu i innych dziedzinach wymagających personalizacji treści.\n",
    "\n",
    "### Inspiracja\n",
    "\n",
    "Pakiet inspirowany był pracą *[AutoField: Automating Feature Selection in Deep Recommender Systems](https://arxiv.org/pdf/2204.09078)*. Autorzy artykułu omawiają różne techniki selekcji cech, w tym:\n",
    "\n",
    "- **Manualna selekcja:** skuteczna, ale czasochłonna i wymagająca wiedzy eksperckiej,\n",
    "- **Grid/Random Search:** dobre dla małych zbiorów danych, ale trudne do skalowania,\n",
    "- **Lasso/Decision Trees:** popularne w ogólnych zastosowaniach, ale mniej efektywne w głębokich systemach rekomendacji.\n",
    "\n",
    "\n",
    "Dzięki integracji wielu metod, FeatureFlex automatyzuje proces selekcji cech i optymalizacji, dostarczając użytkownikom zaawansowane narzędzie AutoML.\n",
    "\n",
    "---\n",
    "\n",
    "## Podobne rozwiązania dostępne na rynku\n",
    "\n",
    "Podobne pakiety, takie jak [Boruta](https://github.com/scikit-learn-contrib/boruta_py), [SHAP](https://shap.readthedocs.io/en/latest/), [AutoFeat](https://arxiv.org/pdf/1901.07329), [SelectKBest](https://scikit-learn.org/stable/modules/generated/sklearn.feature_selection.SelectKBest.html) i [ReliefF](https://epistasislab.github.io/scikit-rebate/using/), oferują ciekawe funkcjonalności, ale często ograniczają się do jednej konkretnej techniki. **FeatureFlex** wyróżnia się wszechstronnością, wykorzystaniem własnych metod selekcji cech oraz możliwością dynamicznej optymalizacji modeli, co czyni go bardziej elastycznym i skalowalnym rozwiązaniem.\n",
    "\n",
    "---"
   ]
  },
  {
   "cell_type": "markdown",
   "metadata": {},
   "source": [
    "## Zawartość pakietu\n",
    "\n",
    "Pakiet FeatureFlex 0.1.12 zawiera zestaw narzędzi do przetwarzania danych, selekcji i optymalizacji modeli, oraz ewaluacji wyników, które razem tworzą kompleksowe środowisko AutoML do zastosowań w systemach rekomendacji opartych na głębokim uczeniu. Oto szczegółowy opis głównych komponentów pakietu:\n",
    "\n",
    "### 1. Przetwarzanie danych (data preprocessing)\n",
    "\n",
    "**`DataPreprocessor`**:\n",
    "- **Opis**: klasa służąca do wstępnego przetwarzania danych, w tym obsługi brakujących danych, skalowania i kodowania. \n",
    "\n",
    "- **Metody**:\n",
    "  - `preprocess(data, target_column, selected_features=None)`: przyjmuje ramkę danych (DataFrame), nazwę kolumny docelowej oraz opcjonalnie indeksy wybranych cech. Zwraca przetworzone cechy (X), etykiety (y) oraz obiekt transformatora.\n",
    "  \n",
    "    **Składniki przetwarzania**:\n",
    "    - imputacja brakujących wartości dla zmiennych kategorycznych i numerycznych,\n",
    "    - dkalowanie zmiennych numerycznych,\n",
    "    - kodowanie One-Hot dla zmiennych kategorycznych.\n",
    "\n",
    "### 2. Selekcja i optymalizacja modeli\n",
    "\n",
    "**`EnhancedFeatureSelector`** (rozszerzony selektor cech):\n",
    "- **Opis**: klasa oparta na modelach głębokiego uczenia do dynamicznego wyboru cech.\n",
    "\n",
    "- **Metody**:\n",
    "  - `select_via_shap(X, y, n_features=10)`: wykorzystuje SHAP do wyboru najważniejszych cech za pomocą RandomForestClassifier,\n",
    "  - `select_via_model_optimizer(X, y, n_features=10, param_grids=None, method=\"dynamic\")`: pozwala na dynamiczny wybór cech poprzez automatyzację procesu optymalizacji modeli.\n",
    "\n",
    "**`ModelOptimizer`**:\n",
    "- **Opis**: klasa do automatyzacji wyboru i optymalizacji modeli klasyfikacyjnych.\n",
    "\n",
    "- **Metody**:\n",
    "  - `optimize_model(X, y, param_grids=None, method=\"grid\", n_iter_random=20, n_trials_bayes=50)`: optymalizuje model używając wybranego sposobu (Grid Search, Random Search, Bayesian Optimization). Umożliwia dynamiczną zmianę metody optymalizacji w zależności od rozmiaru danych.\n",
    "\n",
    "    **Obsługiwane modele**: RandomForest, GradientBoosting, LogisticRegression, SVM, XGBoost, KNN.\n",
    "  \n",
    "### 3. Ewaluacja i podsumowanie wyników\n",
    "\n",
    "**`ModelEvaluator`**:\n",
    "- **Opis**: Klasa do obliczania metryk modeli, generowania wykresów i raportów.\n",
    "\n",
    "- **Metody**:\n",
    "  - `evaluate(model, X, y, output_format=\"console\", output_filename=\"evaluation_report.html\", output_path=None)`: Oblicza metryki modelu i opcjonalnie generuje raport HTML.\n",
    "\n",
    "    **Metryki**: AUC, Accuracy, Precision, Recall, F1-Score.\n",
    "\n",
    "    **Wyjście**: Raporty mogą być wyświetlane w konsoli lub zapisywane jako pliki HTML z dodatkowymi wykresami (macierz błędów, krzywa ROC, krzywa Precision-Recall).\n",
    "\n",
    "Każdy z tych komponentów został zaprojektowany tak, aby zapewnić elastyczność i efektywność w zarządzaniu dużymi zestawami danych, co jest kluczowe w aplikacjach wymagających szybkiego i dokładnego modelowania danych, jak np. w rekomendacjach produktów lub treści.\n",
    "\n",
    "---\n",
    "\n",
    "## FeatureFlex na tle innych rozwiązań\n",
    "Dla zainteresowanych, **FeatureFlex** oferuje możliwość porównania z innymi rozwiązaniami dostęnymi na rynku. Funkcja `compare_feature_selectors` z modułu `comparison` dokonuje porównania następujących rozwiązań:\n",
    "- brak specjalistycznego wyboru cech,\n",
    "- **FeatureFlex**,\n",
    "- [Boruta](https://github.com/scikit-learn-contrib/boruta_py),\n",
    "- [SelectKBest](https://scikit-learn.org/stable/modules/generated/sklearn.feature_selection.SelectKBest.html),\n",
    "- [ReliefF](https://epistasislab.github.io/scikit-rebate/using/).\n",
    "\n",
    "W celu wizualnego zobrazowania wyników, udostępniona została metoda `save_results_and_plots`."
   ]
  },
  {
   "cell_type": "code",
   "execution_count": 1,
   "metadata": {},
   "outputs": [],
   "source": [
    "# Skorzystać z tej komórki, jeżeli pomimo instalacji interpreter nie może odnaleźć modułów\n",
    "import sys, os\n",
    "\n",
    "current_dir = os.path.dirname(os.path.abspath(\"__file__\"))\n",
    "src_path = os.path.abspath(os.path.join(current_dir, \"../src/FeatureFlex\"))\n",
    "sys.path.append(src_path)"
   ]
  },
  {
   "cell_type": "markdown",
   "metadata": {},
   "source": [
    "## Instalacja Pakietu"
   ]
  },
  {
   "cell_type": "code",
   "execution_count": 22,
   "metadata": {},
   "outputs": [
    {
     "name": "stdout",
     "output_type": "stream",
     "text": [
      "Found existing installation: FeatureFlex 0.1.12\n",
      "Uninstalling FeatureFlex-0.1.12:\n",
      "  Successfully uninstalled FeatureFlex-0.1.12\n",
      "Note: you may need to restart the kernel to use updated packages.\n"
     ]
    }
   ],
   "source": [
    "pip uninstall FeatureFlex featureflex -y"
   ]
  },
  {
   "cell_type": "code",
   "execution_count": 23,
   "metadata": {},
   "outputs": [
    {
     "name": "stdout",
     "output_type": "stream",
     "text": [
      "Collecting FeatureFlex\n",
      "  Downloading FeatureFlex-0.1.21-py3-none-any.whl.metadata (8.4 kB)\n",
      "Requirement already satisfied: alembic==1.14.0 in /home/kaliuser/Documents/portfolio/commercial_apps/CS-MINI-2024Z-AutoML_project_2/venv/lib/python3.12/site-packages (from FeatureFlex) (1.14.0)\n",
      "Requirement already satisfied: autofeat==2.1.3 in /home/kaliuser/Documents/portfolio/commercial_apps/CS-MINI-2024Z-AutoML_project_2/venv/lib/python3.12/site-packages (from FeatureFlex) (2.1.3)\n",
      "Requirement already satisfied: Boruta==0.4.3 in /home/kaliuser/Documents/portfolio/commercial_apps/CS-MINI-2024Z-AutoML_project_2/venv/lib/python3.12/site-packages (from FeatureFlex) (0.4.3)\n",
      "Requirement already satisfied: certifi==2024.12.14 in /home/kaliuser/Documents/portfolio/commercial_apps/CS-MINI-2024Z-AutoML_project_2/venv/lib/python3.12/site-packages (from FeatureFlex) (2024.12.14)\n",
      "Requirement already satisfied: charset-normalizer==3.4.1 in /home/kaliuser/Documents/portfolio/commercial_apps/CS-MINI-2024Z-AutoML_project_2/venv/lib/python3.12/site-packages (from FeatureFlex) (3.4.1)\n",
      "Requirement already satisfied: cloudpickle==3.1.0 in /home/kaliuser/Documents/portfolio/commercial_apps/CS-MINI-2024Z-AutoML_project_2/venv/lib/python3.12/site-packages (from FeatureFlex) (3.1.0)\n",
      "Requirement already satisfied: colorlog==6.9.0 in /home/kaliuser/Documents/portfolio/commercial_apps/CS-MINI-2024Z-AutoML_project_2/venv/lib/python3.12/site-packages (from FeatureFlex) (6.9.0)\n",
      "Requirement already satisfied: contourpy==1.3.1 in /home/kaliuser/Documents/portfolio/commercial_apps/CS-MINI-2024Z-AutoML_project_2/venv/lib/python3.12/site-packages (from FeatureFlex) (1.3.1)\n",
      "Requirement already satisfied: cycler==0.12.1 in /home/kaliuser/Documents/portfolio/commercial_apps/CS-MINI-2024Z-AutoML_project_2/venv/lib/python3.12/site-packages (from FeatureFlex) (0.12.1)\n",
      "Requirement already satisfied: filelock==3.16.1 in /home/kaliuser/Documents/portfolio/commercial_apps/CS-MINI-2024Z-AutoML_project_2/venv/lib/python3.12/site-packages (from FeatureFlex) (3.16.1)\n",
      "Requirement already satisfied: flexcache==0.3 in /home/kaliuser/Documents/portfolio/commercial_apps/CS-MINI-2024Z-AutoML_project_2/venv/lib/python3.12/site-packages (from FeatureFlex) (0.3)\n",
      "Requirement already satisfied: flexparser==0.4 in /home/kaliuser/Documents/portfolio/commercial_apps/CS-MINI-2024Z-AutoML_project_2/venv/lib/python3.12/site-packages (from FeatureFlex) (0.4)\n",
      "Requirement already satisfied: fonttools==4.55.3 in /home/kaliuser/Documents/portfolio/commercial_apps/CS-MINI-2024Z-AutoML_project_2/venv/lib/python3.12/site-packages (from FeatureFlex) (4.55.3)\n",
      "Requirement already satisfied: fsspec==2024.12.0 in /home/kaliuser/Documents/portfolio/commercial_apps/CS-MINI-2024Z-AutoML_project_2/venv/lib/python3.12/site-packages (from FeatureFlex) (2024.12.0)\n",
      "Requirement already satisfied: greenlet==3.1.1 in /home/kaliuser/Documents/portfolio/commercial_apps/CS-MINI-2024Z-AutoML_project_2/venv/lib/python3.12/site-packages (from FeatureFlex) (3.1.1)\n",
      "Requirement already satisfied: idna==3.10 in /home/kaliuser/Documents/portfolio/commercial_apps/CS-MINI-2024Z-AutoML_project_2/venv/lib/python3.12/site-packages (from FeatureFlex) (3.10)\n",
      "Requirement already satisfied: imbalanced-learn==0.13.0 in /home/kaliuser/Documents/portfolio/commercial_apps/CS-MINI-2024Z-AutoML_project_2/venv/lib/python3.12/site-packages (from FeatureFlex) (0.13.0)\n",
      "Requirement already satisfied: imblearn==0.0 in /home/kaliuser/Documents/portfolio/commercial_apps/CS-MINI-2024Z-AutoML_project_2/venv/lib/python3.12/site-packages (from FeatureFlex) (0.0)\n",
      "Requirement already satisfied: Jinja2==3.1.5 in /home/kaliuser/Documents/portfolio/commercial_apps/CS-MINI-2024Z-AutoML_project_2/venv/lib/python3.12/site-packages (from FeatureFlex) (3.1.5)\n",
      "Requirement already satisfied: joblib==1.4.2 in /home/kaliuser/Documents/portfolio/commercial_apps/CS-MINI-2024Z-AutoML_project_2/venv/lib/python3.12/site-packages (from FeatureFlex) (1.4.2)\n",
      "Requirement already satisfied: kagglehub==0.3.6 in /home/kaliuser/Documents/portfolio/commercial_apps/CS-MINI-2024Z-AutoML_project_2/venv/lib/python3.12/site-packages (from FeatureFlex) (0.3.6)\n",
      "Requirement already satisfied: kiwisolver==1.4.8 in /home/kaliuser/Documents/portfolio/commercial_apps/CS-MINI-2024Z-AutoML_project_2/venv/lib/python3.12/site-packages (from FeatureFlex) (1.4.8)\n",
      "Requirement already satisfied: lightgbm==4.5.0 in /home/kaliuser/Documents/portfolio/commercial_apps/CS-MINI-2024Z-AutoML_project_2/venv/lib/python3.12/site-packages (from FeatureFlex) (4.5.0)\n",
      "Requirement already satisfied: llvmlite==0.43.0 in /home/kaliuser/Documents/portfolio/commercial_apps/CS-MINI-2024Z-AutoML_project_2/venv/lib/python3.12/site-packages (from FeatureFlex) (0.43.0)\n",
      "Requirement already satisfied: Mako==1.3.8 in /home/kaliuser/Documents/portfolio/commercial_apps/CS-MINI-2024Z-AutoML_project_2/venv/lib/python3.12/site-packages (from FeatureFlex) (1.3.8)\n",
      "Requirement already satisfied: MarkupSafe==3.0.2 in /home/kaliuser/Documents/portfolio/commercial_apps/CS-MINI-2024Z-AutoML_project_2/venv/lib/python3.12/site-packages (from FeatureFlex) (3.0.2)\n",
      "Requirement already satisfied: matplotlib==3.10.0 in /home/kaliuser/Documents/portfolio/commercial_apps/CS-MINI-2024Z-AutoML_project_2/venv/lib/python3.12/site-packages (from FeatureFlex) (3.10.0)\n",
      "Requirement already satisfied: mpmath==1.3.0 in /home/kaliuser/Documents/portfolio/commercial_apps/CS-MINI-2024Z-AutoML_project_2/venv/lib/python3.12/site-packages (from FeatureFlex) (1.3.0)\n",
      "Requirement already satisfied: networkx==3.4.2 in /home/kaliuser/Documents/portfolio/commercial_apps/CS-MINI-2024Z-AutoML_project_2/venv/lib/python3.12/site-packages (from FeatureFlex) (3.4.2)\n",
      "Requirement already satisfied: numba==0.60.0 in /home/kaliuser/Documents/portfolio/commercial_apps/CS-MINI-2024Z-AutoML_project_2/venv/lib/python3.12/site-packages (from FeatureFlex) (0.60.0)\n",
      "Requirement already satisfied: numpy==1.26.4 in /home/kaliuser/Documents/portfolio/commercial_apps/CS-MINI-2024Z-AutoML_project_2/venv/lib/python3.12/site-packages (from FeatureFlex) (1.26.4)\n",
      "Requirement already satisfied: nvidia-cublas-cu12==12.4.5.8 in /home/kaliuser/Documents/portfolio/commercial_apps/CS-MINI-2024Z-AutoML_project_2/venv/lib/python3.12/site-packages (from FeatureFlex) (12.4.5.8)\n",
      "Requirement already satisfied: nvidia-cuda-cupti-cu12==12.4.127 in /home/kaliuser/Documents/portfolio/commercial_apps/CS-MINI-2024Z-AutoML_project_2/venv/lib/python3.12/site-packages (from FeatureFlex) (12.4.127)\n",
      "Requirement already satisfied: nvidia-cuda-nvrtc-cu12==12.4.127 in /home/kaliuser/Documents/portfolio/commercial_apps/CS-MINI-2024Z-AutoML_project_2/venv/lib/python3.12/site-packages (from FeatureFlex) (12.4.127)\n",
      "Requirement already satisfied: nvidia-cuda-runtime-cu12==12.4.127 in /home/kaliuser/Documents/portfolio/commercial_apps/CS-MINI-2024Z-AutoML_project_2/venv/lib/python3.12/site-packages (from FeatureFlex) (12.4.127)\n",
      "Requirement already satisfied: nvidia-cudnn-cu12==9.1.0.70 in /home/kaliuser/Documents/portfolio/commercial_apps/CS-MINI-2024Z-AutoML_project_2/venv/lib/python3.12/site-packages (from FeatureFlex) (9.1.0.70)\n",
      "Requirement already satisfied: nvidia-cufft-cu12==11.2.1.3 in /home/kaliuser/Documents/portfolio/commercial_apps/CS-MINI-2024Z-AutoML_project_2/venv/lib/python3.12/site-packages (from FeatureFlex) (11.2.1.3)\n",
      "Requirement already satisfied: nvidia-curand-cu12==10.3.5.147 in /home/kaliuser/Documents/portfolio/commercial_apps/CS-MINI-2024Z-AutoML_project_2/venv/lib/python3.12/site-packages (from FeatureFlex) (10.3.5.147)\n",
      "Requirement already satisfied: nvidia-cusolver-cu12==11.6.1.9 in /home/kaliuser/Documents/portfolio/commercial_apps/CS-MINI-2024Z-AutoML_project_2/venv/lib/python3.12/site-packages (from FeatureFlex) (11.6.1.9)\n",
      "Requirement already satisfied: nvidia-cusparse-cu12==12.3.1.170 in /home/kaliuser/Documents/portfolio/commercial_apps/CS-MINI-2024Z-AutoML_project_2/venv/lib/python3.12/site-packages (from FeatureFlex) (12.3.1.170)\n",
      "Requirement already satisfied: nvidia-nccl-cu12==2.21.5 in /home/kaliuser/Documents/portfolio/commercial_apps/CS-MINI-2024Z-AutoML_project_2/venv/lib/python3.12/site-packages (from FeatureFlex) (2.21.5)\n",
      "Requirement already satisfied: nvidia-nvjitlink-cu12==12.4.127 in /home/kaliuser/Documents/portfolio/commercial_apps/CS-MINI-2024Z-AutoML_project_2/venv/lib/python3.12/site-packages (from FeatureFlex) (12.4.127)\n",
      "Requirement already satisfied: nvidia-nvtx-cu12==12.4.127 in /home/kaliuser/Documents/portfolio/commercial_apps/CS-MINI-2024Z-AutoML_project_2/venv/lib/python3.12/site-packages (from FeatureFlex) (12.4.127)\n",
      "Requirement already satisfied: optuna==4.1.0 in /home/kaliuser/Documents/portfolio/commercial_apps/CS-MINI-2024Z-AutoML_project_2/venv/lib/python3.12/site-packages (from FeatureFlex) (4.1.0)\n",
      "Requirement already satisfied: packaging==24.2 in /home/kaliuser/Documents/portfolio/commercial_apps/CS-MINI-2024Z-AutoML_project_2/venv/lib/python3.12/site-packages (from FeatureFlex) (24.2)\n",
      "Requirement already satisfied: pandas==2.2.3 in /home/kaliuser/Documents/portfolio/commercial_apps/CS-MINI-2024Z-AutoML_project_2/venv/lib/python3.12/site-packages (from FeatureFlex) (2.2.3)\n",
      "Requirement already satisfied: pdfkit==1.0.0 in /home/kaliuser/Documents/portfolio/commercial_apps/CS-MINI-2024Z-AutoML_project_2/venv/lib/python3.12/site-packages (from FeatureFlex) (1.0.0)\n",
      "Requirement already satisfied: pillow==11.0.0 in /home/kaliuser/Documents/portfolio/commercial_apps/CS-MINI-2024Z-AutoML_project_2/venv/lib/python3.12/site-packages (from FeatureFlex) (11.0.0)\n",
      "Requirement already satisfied: Pint==0.24.4 in /home/kaliuser/Documents/portfolio/commercial_apps/CS-MINI-2024Z-AutoML_project_2/venv/lib/python3.12/site-packages (from FeatureFlex) (0.24.4)\n",
      "Requirement already satisfied: platformdirs==4.3.6 in /home/kaliuser/Documents/portfolio/commercial_apps/CS-MINI-2024Z-AutoML_project_2/venv/lib/python3.12/site-packages (from FeatureFlex) (4.3.6)\n",
      "Requirement already satisfied: pyparsing==3.2.1 in /home/kaliuser/Documents/portfolio/commercial_apps/CS-MINI-2024Z-AutoML_project_2/venv/lib/python3.12/site-packages (from FeatureFlex) (3.2.1)\n",
      "Requirement already satisfied: python-dateutil==2.9.0.post0 in /home/kaliuser/Documents/portfolio/commercial_apps/CS-MINI-2024Z-AutoML_project_2/venv/lib/python3.12/site-packages (from FeatureFlex) (2.9.0.post0)\n",
      "Requirement already satisfied: pytz==2024.2 in /home/kaliuser/Documents/portfolio/commercial_apps/CS-MINI-2024Z-AutoML_project_2/venv/lib/python3.12/site-packages (from FeatureFlex) (2024.2)\n",
      "Requirement already satisfied: PyYAML==6.0.2 in /home/kaliuser/Documents/portfolio/commercial_apps/CS-MINI-2024Z-AutoML_project_2/venv/lib/python3.12/site-packages (from FeatureFlex) (6.0.2)\n",
      "Requirement already satisfied: requests==2.32.3 in /home/kaliuser/Documents/portfolio/commercial_apps/CS-MINI-2024Z-AutoML_project_2/venv/lib/python3.12/site-packages (from FeatureFlex) (2.32.3)\n",
      "Requirement already satisfied: scikit-learn==1.5.0 in /home/kaliuser/Documents/portfolio/commercial_apps/CS-MINI-2024Z-AutoML_project_2/venv/lib/python3.12/site-packages (from FeatureFlex) (1.5.0)\n",
      "Requirement already satisfied: scipy==1.14.1 in /home/kaliuser/Documents/portfolio/commercial_apps/CS-MINI-2024Z-AutoML_project_2/venv/lib/python3.12/site-packages (from FeatureFlex) (1.14.1)\n",
      "Requirement already satisfied: setuptools==75.6.0 in /home/kaliuser/Documents/portfolio/commercial_apps/CS-MINI-2024Z-AutoML_project_2/venv/lib/python3.12/site-packages (from FeatureFlex) (75.6.0)\n",
      "Requirement already satisfied: shap==0.46.0 in /home/kaliuser/Documents/portfolio/commercial_apps/CS-MINI-2024Z-AutoML_project_2/venv/lib/python3.12/site-packages (from FeatureFlex) (0.46.0)\n",
      "Requirement already satisfied: six==1.17.0 in /home/kaliuser/Documents/portfolio/commercial_apps/CS-MINI-2024Z-AutoML_project_2/venv/lib/python3.12/site-packages (from FeatureFlex) (1.17.0)\n",
      "Requirement already satisfied: sklearn-compat==0.1.3 in /home/kaliuser/Documents/portfolio/commercial_apps/CS-MINI-2024Z-AutoML_project_2/venv/lib/python3.12/site-packages (from FeatureFlex) (0.1.3)\n",
      "Requirement already satisfied: slicer==0.0.8 in /home/kaliuser/Documents/portfolio/commercial_apps/CS-MINI-2024Z-AutoML_project_2/venv/lib/python3.12/site-packages (from FeatureFlex) (0.0.8)\n",
      "Requirement already satisfied: SQLAlchemy==2.0.36 in /home/kaliuser/Documents/portfolio/commercial_apps/CS-MINI-2024Z-AutoML_project_2/venv/lib/python3.12/site-packages (from FeatureFlex) (2.0.36)\n",
      "Requirement already satisfied: sympy==1.13.1 in /home/kaliuser/Documents/portfolio/commercial_apps/CS-MINI-2024Z-AutoML_project_2/venv/lib/python3.12/site-packages (from FeatureFlex) (1.13.1)\n",
      "Requirement already satisfied: threadpoolctl==3.5.0 in /home/kaliuser/Documents/portfolio/commercial_apps/CS-MINI-2024Z-AutoML_project_2/venv/lib/python3.12/site-packages (from FeatureFlex) (3.5.0)\n",
      "Requirement already satisfied: torch==2.5.1 in /home/kaliuser/Documents/portfolio/commercial_apps/CS-MINI-2024Z-AutoML_project_2/venv/lib/python3.12/site-packages (from FeatureFlex) (2.5.1)\n",
      "Requirement already satisfied: tqdm==4.67.1 in /home/kaliuser/Documents/portfolio/commercial_apps/CS-MINI-2024Z-AutoML_project_2/venv/lib/python3.12/site-packages (from FeatureFlex) (4.67.1)\n",
      "Requirement already satisfied: triton==3.1.0 in /home/kaliuser/Documents/portfolio/commercial_apps/CS-MINI-2024Z-AutoML_project_2/venv/lib/python3.12/site-packages (from FeatureFlex) (3.1.0)\n",
      "Requirement already satisfied: typing_extensions==4.12.2 in /home/kaliuser/Documents/portfolio/commercial_apps/CS-MINI-2024Z-AutoML_project_2/venv/lib/python3.12/site-packages (from FeatureFlex) (4.12.2)\n",
      "Requirement already satisfied: tzdata==2024.2 in /home/kaliuser/Documents/portfolio/commercial_apps/CS-MINI-2024Z-AutoML_project_2/venv/lib/python3.12/site-packages (from FeatureFlex) (2024.2)\n",
      "Requirement already satisfied: urllib3==2.3.0 in /home/kaliuser/Documents/portfolio/commercial_apps/CS-MINI-2024Z-AutoML_project_2/venv/lib/python3.12/site-packages (from FeatureFlex) (2.3.0)\n",
      "Requirement already satisfied: xgboost==2.1.3 in /home/kaliuser/Documents/portfolio/commercial_apps/CS-MINI-2024Z-AutoML_project_2/venv/lib/python3.12/site-packages (from FeatureFlex) (2.1.3)\n",
      "Downloading FeatureFlex-0.1.21-py3-none-any.whl (18 kB)\n",
      "Installing collected packages: FeatureFlex\n",
      "Successfully installed FeatureFlex-0.1.21\n",
      "Note: you may need to restart the kernel to use updated packages.\n"
     ]
    }
   ],
   "source": [
    "pip install FeatureFlex"
   ]
  },
  {
   "cell_type": "code",
   "execution_count": 26,
   "metadata": {},
   "outputs": [
    {
     "ename": "ModuleNotFoundError",
     "evalue": "No module named 'model_optimizer'",
     "output_type": "error",
     "traceback": [
      "\u001b[0;31m---------------------------------------------------------------------------\u001b[0m",
      "\u001b[0;31mModuleNotFoundError\u001b[0m                       Traceback (most recent call last)",
      "Cell \u001b[0;32mIn[26], line 1\u001b[0m\n\u001b[0;32m----> 1\u001b[0m \u001b[38;5;28;01mimport\u001b[39;00m \u001b[38;5;21;01mFeatureFlex\u001b[39;00m\n\u001b[1;32m      2\u001b[0m \u001b[38;5;28mprint\u001b[39m(\u001b[38;5;28mdir\u001b[39m(FeatureFlex))\n",
      "File \u001b[0;32m~/Documents/portfolio/commercial_apps/CS-MINI-2024Z-AutoML_project_2/venv/lib/python3.12/site-packages/FeatureFlex/__init__.py:5\u001b[0m\n\u001b[1;32m      3\u001b[0m \u001b[38;5;28;01mfrom\u001b[39;00m \u001b[38;5;21;01m.\u001b[39;00m\u001b[38;5;21;01mevaluation\u001b[39;00m \u001b[38;5;28;01mimport\u001b[39;00m ModelEvaluator\n\u001b[1;32m      4\u001b[0m \u001b[38;5;28;01mfrom\u001b[39;00m \u001b[38;5;21;01m.\u001b[39;00m\u001b[38;5;21;01mmodel_optimizer\u001b[39;00m \u001b[38;5;28;01mimport\u001b[39;00m ModelOptimizer\n\u001b[0;32m----> 5\u001b[0m \u001b[38;5;28;01mfrom\u001b[39;00m \u001b[38;5;21;01m.\u001b[39;00m\u001b[38;5;21;01mfeature_selector\u001b[39;00m \u001b[38;5;28;01mimport\u001b[39;00m EnhancedFeatureSelector\n\u001b[1;32m      6\u001b[0m \u001b[38;5;28;01mfrom\u001b[39;00m \u001b[38;5;21;01m.\u001b[39;00m\u001b[38;5;21;01mpreprocessing\u001b[39;00m \u001b[38;5;28;01mimport\u001b[39;00m DataPreprocessor\n\u001b[1;32m      7\u001b[0m \u001b[38;5;28;01mfrom\u001b[39;00m \u001b[38;5;21;01m.\u001b[39;00m\u001b[38;5;21;01mmodel\u001b[39;00m \u001b[38;5;28;01mimport\u001b[39;00m Model\n",
      "File \u001b[0;32m~/Documents/portfolio/commercial_apps/CS-MINI-2024Z-AutoML_project_2/venv/lib/python3.12/site-packages/FeatureFlex/feature_selector.py:5\u001b[0m\n\u001b[1;32m      3\u001b[0m \u001b[38;5;28;01mimport\u001b[39;00m \u001b[38;5;21;01mnumpy\u001b[39;00m \u001b[38;5;28;01mas\u001b[39;00m \u001b[38;5;21;01mnp\u001b[39;00m\n\u001b[1;32m      4\u001b[0m \u001b[38;5;28;01mimport\u001b[39;00m \u001b[38;5;21;01mshap\u001b[39;00m\n\u001b[0;32m----> 5\u001b[0m \u001b[38;5;28;01mfrom\u001b[39;00m \u001b[38;5;21;01mmodel_optimizer\u001b[39;00m \u001b[38;5;28;01mimport\u001b[39;00m ModelOptimizer\n\u001b[1;32m      6\u001b[0m \u001b[38;5;28;01mfrom\u001b[39;00m \u001b[38;5;21;01msklearn\u001b[39;00m\u001b[38;5;21;01m.\u001b[39;00m\u001b[38;5;21;01mensemble\u001b[39;00m \u001b[38;5;28;01mimport\u001b[39;00m RandomForestClassifier\n\u001b[1;32m      9\u001b[0m \u001b[38;5;28;01mclass\u001b[39;00m \u001b[38;5;21;01mEnhancedFeatureSelector\u001b[39;00m(nn\u001b[38;5;241m.\u001b[39mModule):\n",
      "\u001b[0;31mModuleNotFoundError\u001b[0m: No module named 'model_optimizer'"
     ]
    }
   ],
   "source": [
    "import FeatureFlex\n",
    "print(dir(FeatureFlex))"
   ]
  },
  {
   "cell_type": "markdown",
   "metadata": {},
   "source": [
    "## Przykładowy przepływ pracy\n",
    "\n",
    "### Wybór zbioru i przetwarzanie danych"
   ]
  },
  {
   "cell_type": "code",
   "execution_count": 2,
   "metadata": {},
   "outputs": [
    {
     "name": "stdout",
     "output_type": "stream",
     "text": [
      "Wczytano zbiór: world-happiness-report-2021.csv\n"
     ]
    }
   ],
   "source": [
    "import pandas as pd\n",
    "from sklearn.model_selection import train_test_split\n",
    "from preprocessing import DataPreprocessor # jeżeli interpreter nie może odnaleźć modułów\n",
    "# from FeatureFlex.preprocessing import DataPreprocessor\n",
    "\n",
    "# Wybór zbioru danych\n",
    "dataset = \"./data/world-happiness-report-2021.csv\"\n",
    "data = pd.read_csv(dataset)\n",
    "print(\"Wczytano zbiór: world-happiness-report-2021.csv\")\n",
    "\n",
    "# Określenie zbioru cech\n",
    "columns = [\n",
    "    \"Country name\", \"Regional indicator\", \"Ladder score\", \"Logged GDP per capita\", \n",
    "    \"Social support\", \"Healthy life expectancy\", \"Freedom to make life choices\", \n",
    "    \"Generosity\", \"Perceptions of corruption\"\n",
    "]\n",
    "data = data[columns]\n",
    "\n",
    "target_column = \"Ladder score\"\n",
    "data[target_column] = (data[target_column] > data[target_column].mean()).astype(int)\n",
    "\n",
    "# Przetwarzanie danych\n",
    "preprocessor = DataPreprocessor()\n",
    "X, y, _ = preprocessor.preprocess(\n",
    "    data,               # zbiór danych w postaci ramki\n",
    "    target_column       # nazwa kolumny zawierającej etykiety\n",
    ")\n",
    "\n",
    "# Podział przetworzonego zbioru na treningowy i testowy\n",
    "X_train, X_test, y_train, y_test = train_test_split(X, y, test_size=0.2, random_state=42)"
   ]
  },
  {
   "cell_type": "markdown",
   "metadata": {},
   "source": [
    "### Wybór najistotniejszych cech"
   ]
  },
  {
   "cell_type": "code",
   "execution_count": 3,
   "metadata": {},
   "outputs": [
    {
     "name": "stderr",
     "output_type": "stream",
     "text": [
      "/home/bakaczor/Desktop/Projects/AutoML/2/CS-MINI-2024Z-AutoML_project_2/venv/lib/python3.12/site-packages/tqdm/auto.py:21: TqdmWarning: IProgress not found. Please update jupyter and ipywidgets. See https://ipywidgets.readthedocs.io/en/stable/user_install.html\n",
      "  from .autonotebook import tqdm as notebook_tqdm\n"
     ]
    },
    {
     "ename": "ImportError",
     "evalue": "attempted relative import with no known parent package",
     "output_type": "error",
     "traceback": [
      "\u001b[0;31m---------------------------------------------------------------------------\u001b[0m",
      "\u001b[0;31mImportError\u001b[0m                               Traceback (most recent call last)",
      "Cell \u001b[0;32mIn[3], line 1\u001b[0m\n\u001b[0;32m----> 1\u001b[0m \u001b[38;5;28;01mfrom\u001b[39;00m \u001b[38;5;21;01mfeature_selector\u001b[39;00m \u001b[38;5;28;01mimport\u001b[39;00m EnhancedFeatureSelector \u001b[38;5;66;03m# jeżeli interpreter nie może odnaleźć modułów\u001b[39;00m\n\u001b[1;32m      2\u001b[0m \u001b[38;5;66;03m# from FeatureFlex.feature_selector import EnhancedFeatureSelector\u001b[39;00m\n\u001b[1;32m      4\u001b[0m selector \u001b[38;5;241m=\u001b[39m EnhancedFeatureSelector(\n\u001b[1;32m      5\u001b[0m     input_dim\u001b[38;5;241m=\u001b[39mX_train\u001b[38;5;241m.\u001b[39mshape[\u001b[38;5;241m1\u001b[39m]  \u001b[38;5;66;03m# liczba kolumn\u001b[39;00m\n\u001b[1;32m      6\u001b[0m )\n",
      "File \u001b[0;32m~/Desktop/Projects/AutoML/2/CS-MINI-2024Z-AutoML_project_2/src/FeatureFlex/feature_selector.py:5\u001b[0m\n\u001b[1;32m      3\u001b[0m \u001b[38;5;28;01mimport\u001b[39;00m \u001b[38;5;21;01mnumpy\u001b[39;00m \u001b[38;5;28;01mas\u001b[39;00m \u001b[38;5;21;01mnp\u001b[39;00m\n\u001b[1;32m      4\u001b[0m \u001b[38;5;28;01mimport\u001b[39;00m \u001b[38;5;21;01mshap\u001b[39;00m\n\u001b[0;32m----> 5\u001b[0m \u001b[38;5;28;01mfrom\u001b[39;00m \u001b[38;5;21;01m.\u001b[39;00m\u001b[38;5;21;01mmodel_optimizer\u001b[39;00m \u001b[38;5;28;01mimport\u001b[39;00m ModelOptimizer\n\u001b[1;32m      6\u001b[0m \u001b[38;5;28;01mfrom\u001b[39;00m \u001b[38;5;21;01msklearn\u001b[39;00m\u001b[38;5;21;01m.\u001b[39;00m\u001b[38;5;21;01mensemble\u001b[39;00m \u001b[38;5;28;01mimport\u001b[39;00m RandomForestClassifier\n\u001b[1;32m      9\u001b[0m \u001b[38;5;28;01mclass\u001b[39;00m \u001b[38;5;21;01mEnhancedFeatureSelector\u001b[39;00m(nn\u001b[38;5;241m.\u001b[39mModule):\n",
      "\u001b[0;31mImportError\u001b[0m: attempted relative import with no known parent package"
     ]
    }
   ],
   "source": [
    "from feature_selector import EnhancedFeatureSelector # jeżeli interpreter nie może odnaleźć modułów\n",
    "# from FeatureFlex.feature_selector import EnhancedFeatureSelector\n",
    "\n",
    "selector = EnhancedFeatureSelector(\n",
    "    input_dim=X_train.shape[1]  # liczba kolumn\n",
    ")\n",
    "\n",
    "# Wybór liczby i metody ekstrakcji cech\n",
    "n_features = 10\n",
    "# top_features = selector.select_via_shap(X_train, y_train, n_features=n_features)\n",
    "top_features = selector.select_via_model_optimizer(X_train, y_train, n_features=n_features)\n",
    "\n",
    "reduced_selector = EnhancedFeatureSelector(input_dim=len(top_features))\n",
    "\n",
    "# Ograniczenie zbioru danych do wyekstrahowanych cech\n",
    "if hasattr(X_train, \"toarray\"):\n",
    "    X_train_dense = X_train.toarray()[:, top_features]\n",
    "    X_test_dense = X_test.toarray()[:, top_features]\n",
    "else:\n",
    "    X_train_dense = X_train[:, top_features]\n",
    "    X_test_dense = X_test[:, top_features]"
   ]
  },
  {
   "cell_type": "markdown",
   "metadata": {},
   "source": [
    "### Wybór i optymalizacja modelu"
   ]
  },
  {
   "cell_type": "code",
   "execution_count": null,
   "metadata": {},
   "outputs": [],
   "source": [
    "from imblearn.combine import SMOTETomek\n",
    "from model_optimizer import ModelOptimizer # jeżeli interpreter nie może odnaleźć modułów\n",
    "# from FeatureFlex.model_optimizer import ModelOptimizer\n",
    "    \n",
    "# Opcjonalnie: redukcja nierówności powstałych w zbiorze,\n",
    "# stosując technikę oversamplingu SMOTE-Tomek\n",
    "smote_tomek = SMOTETomek(random_state=42)\n",
    "X_train_res, y_train_res = smote_tomek.fit_resample(X_train_dense, y_train)\n",
    "\n",
    "# Wybór i optymalizacja modelu\n",
    "optimizer = ModelOptimizer()\n",
    "best_model, best_score = optimizer.optimize_model(\n",
    "    X_train_res,    # macierz cech\n",
    "    y_train_res     # wektor etykiet\n",
    ")\n",
    "print(f\"Best Model Score (CV AUC): {best_score}\")"
   ]
  },
  {
   "cell_type": "markdown",
   "metadata": {},
   "source": [
    "### Ewaluacja uzyskanego modelu"
   ]
  },
  {
   "cell_type": "code",
   "execution_count": null,
   "metadata": {},
   "outputs": [],
   "source": [
    "from evaluation import ModelEvaluator\n",
    "# from FeatureFlex.evaluation import ModelEvaluator\n",
    "\n",
    "evaluator = ModelEvaluator()\n",
    "evaluation_results = evaluator.evaluate(\n",
    "    best_model,                     # wybrany model\n",
    "    X_test_dense,                   # macierz cech\n",
    "    y_test,                         # wektor etykiet\n",
    "    output_format=\"console\",        # metoda prezentacji - \"console\" lub \"html\"\n",
    ")\n",
    "print(\"Evaluation Results:\", evaluation_results)"
   ]
  },
  {
   "cell_type": "markdown",
   "metadata": {},
   "source": [
    "### Automatyzacja\n",
    "W pliku `main.py` dostępna jest funkcja pozwalająca na automatyzację całego przedstawionego procesu. Użyjemy jej do wygenerowania raportu w postaci HTML."
   ]
  },
  {
   "cell_type": "code",
   "execution_count": null,
   "metadata": {},
   "outputs": [],
   "source": [
    "from main import preprocess_and_train # jeżeli interpreter nie może odnaleźć modułów\n",
    "# from FeatureFlex.main import preprocess_and_train\n",
    "from IPython.display import HTML\n",
    "\n",
    "preprocess_and_train(data, target_column=target_column, output_filename=\"evaluation_report_happiness.html\", output_path=\".\")\n",
    "HTML(filename=\"./evaluation_report_happiness.html\")"
   ]
  },
  {
   "cell_type": "markdown",
   "metadata": {},
   "source": [
    "### Porównanie z innymi rozwiązaniami"
   ]
  },
  {
   "cell_type": "code",
   "execution_count": null,
   "metadata": {},
   "outputs": [],
   "source": [
    "from comparison import compare_feature_selectors, save_results_and_plots # jeżeli interpreter nie może odnaleźć modułów\n",
    "# from FeatureFlex.comparison import compare_feature_selectors, save_results_and_plots\n",
    "from IPython.display import Image\n",
    "\n",
    "# Wykonanie porównania\n",
    "results = compare_feature_selectors(data, target_column, n_features)\n",
    "print(results)\n",
    "\n",
    "# Zapisanie wyników\n",
    "save_results_and_plots(results)"
   ]
  },
  {
   "cell_type": "markdown",
   "metadata": {},
   "source": [
    "#### SHAP = FeatureFlex"
   ]
  },
  {
   "cell_type": "code",
   "execution_count": null,
   "metadata": {},
   "outputs": [],
   "source": [
    "Image('comparison_auc.png')"
   ]
  },
  {
   "cell_type": "markdown",
   "metadata": {},
   "source": [
    "Image('comparison_accuracy.png')"
   ]
  }
 ],
 "metadata": {
  "kernelspec": {
   "display_name": "venv",
   "language": "python",
   "name": "python3"
  },
  "language_info": {
   "codemirror_mode": {
    "name": "ipython",
    "version": 3
   },
   "file_extension": ".py",
   "mimetype": "text/x-python",
   "name": "python",
   "nbconvert_exporter": "python",
   "pygments_lexer": "ipython3",
   "version": "3.12.7"
  }
 },
 "nbformat": 4,
 "nbformat_minor": 2
}
